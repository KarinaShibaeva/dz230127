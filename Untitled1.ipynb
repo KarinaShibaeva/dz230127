{
  "nbformat": 4,
  "nbformat_minor": 0,
  "metadata": {
    "colab": {
      "provenance": []
    },
    "kernelspec": {
      "name": "python3",
      "display_name": "Python 3"
    },
    "language_info": {
      "name": "python"
    }
  },
  "cells": [
    {
      "cell_type": "code",
      "source": [
        "!pip install experta\n",
        "from experta import *"
      ],
      "metadata": {
        "colab": {
          "base_uri": "https://localhost:8080/"
        },
        "id": "UD0Ij6kiKUnb",
        "outputId": "656614fa-4e69-4f46-e226-3a249c7c0e85"
      },
      "execution_count": 1,
      "outputs": [
        {
          "output_type": "stream",
          "name": "stdout",
          "text": [
            "Looking in indexes: https://pypi.org/simple, https://us-python.pkg.dev/colab-wheels/public/simple/\n",
            "Collecting experta\n",
            "  Downloading experta-1.9.4-py3-none-any.whl (35 kB)\n",
            "Collecting frozendict==1.2\n",
            "  Downloading frozendict-1.2.tar.gz (2.6 kB)\n",
            "  Preparing metadata (setup.py) ... \u001b[?25l\u001b[?25hdone\n",
            "Collecting schema==0.6.7\n",
            "  Downloading schema-0.6.7-py2.py3-none-any.whl (14 kB)\n",
            "Building wheels for collected packages: frozendict\n",
            "  Building wheel for frozendict (setup.py) ... \u001b[?25l\u001b[?25hdone\n",
            "  Created wheel for frozendict: filename=frozendict-1.2-py3-none-any.whl size=3165 sha256=1c89721495c788a8adb17c0a82b61c22dc91fad3eaf90514646a63bbf9b8277e\n",
            "  Stored in directory: /root/.cache/pip/wheels/9b/9b/56/5713233cf7226423ab6c58c08081551a301b5863e343ba053c\n",
            "Successfully built frozendict\n",
            "Installing collected packages: schema, frozendict, experta\n",
            "Successfully installed experta-1.9.4 frozendict-1.2 schema-0.6.7\n"
          ]
        }
      ]
    },
    {
      "cell_type": "code",
      "execution_count": 60,
      "metadata": {
        "colab": {
          "base_uri": "https://localhost:8080/"
        },
        "id": "iQtwsM40KN8N",
        "outputId": "08f65f4c-ea3f-4b87-dfe4-8073ba6744f2"
      },
      "outputs": [
        {
          "output_type": "stream",
          "name": "stdout",
          "text": [
            "Среда обитания животного (водная или земная): водная\n",
            "У этого животного есть чешуя?да\n",
            "Это рыба\n"
          ]
        }
      ],
      "source": [
        "class LivingEnvironment(Fact):\n",
        "    \"\"\"водная или земная\"\"\"\n",
        "    pass\n",
        "\n",
        "class Mammal(Fact):\n",
        "    pass\n",
        "\n",
        "class Wool(Fact):\n",
        "    \"\"\"да/нет\"\"\"\n",
        "    pass\n",
        "\n",
        "class Size(Fact):\n",
        "    \"\"\"да/нет\"\"\"\n",
        "    pass\n",
        "\n",
        "class Bouncy(Fact):\n",
        "    \"\"\"да/нет\"\"\"\n",
        "    pass\n",
        "\n",
        "class Grass(Fact):\n",
        "    \"\"\"да/нет\"\"\"\n",
        "    pass\n",
        "\n",
        "class Horns(Fact):\n",
        "    \"\"\"да/нет\"\"\"\n",
        "    pass\n",
        "\n",
        "class Artiodactyl(Fact):\n",
        "    \"\"\"да/нет\"\"\"\n",
        "    pass\n",
        "\n",
        "class Cobra(Fact):\n",
        "    \"\"\"да/нет\"\"\"\n",
        "    pass\n",
        "\n",
        "class Fish(Fact):\n",
        "    \"\"\"да/нет\"\"\"\n",
        "    pass\n",
        "\n",
        "class Reptil(Fact):\n",
        "    \"\"\"да/нет\"\"\"\n",
        "    pass\n",
        "\n",
        "class Reptile(Fact):\n",
        "    \"\"\"да/нет\"\"\"\n",
        "    pass    \n",
        "\n",
        "class Scales(Fact):\n",
        "    \"\"\"да/нет\"\"\"\n",
        "    pass\n",
        "\n",
        "class Head(Fact):\n",
        "    \"\"\"да/нет\"\"\"\n",
        "    pass\n",
        "\n",
        "class Heron(Fact):\n",
        "    \"\"\"да/нет\"\"\"\n",
        "    pass\n",
        "\n",
        "class Wings(Fact):\n",
        "    \"\"\"да/нет\"\"\"\n",
        "    pass\n",
        "\n",
        "class LongLeggs(Fact):\n",
        "    \"\"\"да/нет\"\"\"\n",
        "    pass\n",
        "\n",
        "class Feathers(Fact):\n",
        "    \"\"\"да/нет\"\"\"\n",
        "    pass\n",
        "\n",
        "class LongBeak(Fact):\n",
        "    \"\"\"да/нет\"\"\"\n",
        "    pass\n",
        "\n",
        "class Bird(Fact):\n",
        "    \"\"\"да/нет\"\"\"\n",
        "    pass\n",
        "\n",
        "class Engine(KnowledgeEngine):\n",
        "    @DefFacts()\n",
        "    def _initial_action(self):\n",
        "        yield LivingEnvironment(input('Среда обитания животного (водная или земная): '))\n",
        "    \n",
        "    @Rule(LivingEnvironment('земная'))\n",
        "    def set_milk_fact(self):\n",
        "        if input('Это животное питается молоком?') == 'да':\n",
        "            self.declare(Mammal())\n",
        "        else:\n",
        "          self.declare(Scales(input('У этого животного есть чешуя (да/нет)? ')))\n",
        "          self.declare(Head(input('Утолщение около головы (да/нет)? ')))\n",
        "          self.declare(Feathers(input('У этого животно есть перья (да/нет)? ')))\n",
        "          self.declare(Wings(input('У этого животного есть крылья (да/нет)? ')))\n",
        "          self.declare(LongLeggs(input('У этого животного есть длинные ноги (да/нет)? ')))\n",
        "          self.declare(LongBeak(input('У этого животного есть длинный клюв (да/нет)? '))) \n",
        "\n",
        "    @Rule(LivingEnvironment('водная'))\n",
        "    def set_water_fact(self):\n",
        "        if input('У этого животного есть чешуя?') == 'да':\n",
        "            self.declare(Fish()) \n",
        "\n",
        "    @Rule(Fish())\n",
        "    def get_fish_answer(self):\n",
        "        print('Это рыба') \n",
        "\n",
        "    @Rule(AND(Scales('да'), Head('да'), Feathers('нет'), Wings('нет'), LongLeggs('нет'), LongBeak('нет')))\n",
        "    def get_cobra_answer(self):\n",
        "        print('Это кобра')    \n",
        "\n",
        "    @Rule(Mammal())\n",
        "    def set_mammal_fact(self):\n",
        "        self.declare(Wool(input('У этого животного длинная шерсть (да/нет)? ')))\n",
        "        self.declare(Size(input('Небольшой размер (да/нет)? ')))\n",
        "        self.declare(Bouncy(input('Прыгучий (да/нет)? ')))\n",
        "        self.declare(Grass(input('Ест траву (да/нет)? ')))\n",
        "        self.declare(Horns(input('Есть рога (да/нет)? ')))\n",
        "        self.declare(Artiodactyl(input('Парнокопытный (да/нет)? ')))\n",
        "\n",
        "    @Rule(AND(Wool('да'), Size('да'), Bouncy('да'), Grass('да'), Horns('да'), Artiodactyl('да')))\n",
        "    def get_goat_answer(self):\n",
        "        print('Это козел')\n",
        "      \n",
        "    @Rule(AND(Wool('нет'), Size('нет'), Bouncy('нет'), Grass('да'), Horns('да'), Artiodactyl('да')))\n",
        "    def get_bull_answer(self):\n",
        "        print('Это бык')\n",
        "\n",
        "    @Rule(AND(Scales('нет'), Head('нет'), Feathers('да'), Wings('да'), LongLeggs('да'), LongBeak('да')))\n",
        "    def get_heron_answer(self):\n",
        "        print('Это цапля')\n",
        "\n",
        "prod = Engine()\n",
        "prod.reset()\n",
        "prod.run()"
      ]
    },
    {
      "cell_type": "code",
      "source": [],
      "metadata": {
        "id": "ddp7seAhnLxk"
      },
      "execution_count": null,
      "outputs": []
    },
    {
      "cell_type": "code",
      "source": [],
      "metadata": {
        "id": "UXLHYIUPnKip"
      },
      "execution_count": null,
      "outputs": []
    }
  ]
}